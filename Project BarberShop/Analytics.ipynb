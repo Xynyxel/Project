{
 "cells": [
  {
   "cell_type": "markdown",
   "id": "74c65630",
   "metadata": {},
   "source": [
    "# Latar Belakang\n",
    "> Barbershop ini terletak pada salah satu kota di Jawa Timur, yang dibangun sejak 2021. Selain menerima service haircut, barbershop juga menerima service lain seperti haircolor, hairperming, dll, serta penjualan produk seperti pomade, hairpowder, dsb.\n",
    "\n",
    "## Goals \n",
    "* Prediksi Jumlah Visitor pada Barbershop\n",
    "* Prediksi jumlah kedatangan pelanggan pada salah satu store barbershop, yang akan digunakan sebagai penentuan stock barang maupun potensi penambahan karyawan\n",
    "* Untuk mengoptimalkan stock & ekspansi bisnis, barbershop membutuhkan prediksi secara harian, berapa visitor yang akan datang pada beberapa hari yang akan datang.\n",
    "\n",
    "## Penilaian\n",
    "* Metrics yang akan digunakan untuk pengukuran akurasi adalah MAPE (mean absolute percentage error)\n",
    "\n",
    "\n"
   ]
  },
  {
   "cell_type": "markdown",
   "id": "342974b1",
   "metadata": {
    "ExecuteTime": {
     "end_time": "2022-05-09T16:34:39.613156Z",
     "start_time": "2022-05-09T16:34:39.606198Z"
    }
   },
   "source": [
    "# Data Preparation"
   ]
  },
  {
   "cell_type": "markdown",
   "id": "187a2a85",
   "metadata": {},
   "source": [
    "## Data yang digunakan adalah:\n",
    "\n",
    "1. Data Transaksi: Data yang berisi transaksi tiap pelanggan yang datang, termasuk chanel payment dan product/service apa saja yang dibayarkan\n",
    "    * Status (baru: pelanggan baru pertama kali datang, lama: pelanggan lama yang pernah datang)\n",
    "    * Cukur ke (jumlah kedatangan customer ke store)\n",
    "    * Capster (id pemotong rambut yang memberikan service)\n",
    "    * Bayar (channel payment cash/qris)\n",
    "2. Data Traffic Google Business: Data pada google business hasil dari marketing maupun proses lainnya (asumsi data di bulan april telah lengkap, sebagai proyeksi hasil marketing)\n",
    "3. Data Pricelist Product: Data Harga product & service barbershop"
   ]
  },
  {
   "cell_type": "code",
   "execution_count": 21,
   "id": "0649c745",
   "metadata": {
    "ExecuteTime": {
     "end_time": "2022-05-15T04:47:14.130789Z",
     "start_time": "2022-05-15T04:47:14.111885Z"
    }
   },
   "outputs": [],
   "source": [
    "# import library yang dibutuhkan\n",
    "import pandas as pd\n",
    "import matplotlib.pyplot as plt\n",
    "import seaborn as sns\n",
    "import datetime \n",
    "import numpy as np\n",
    "import calmap"
   ]
  },
  {
   "cell_type": "code",
   "execution_count": 2,
   "id": "55a173ad",
   "metadata": {
    "ExecuteTime": {
     "end_time": "2022-05-15T04:43:20.939439Z",
     "start_time": "2022-05-15T04:43:20.862259Z"
    }
   },
   "outputs": [
    {
     "data": {
      "text/html": [
       "<div>\n",
       "<style scoped>\n",
       "    .dataframe tbody tr th:only-of-type {\n",
       "        vertical-align: middle;\n",
       "    }\n",
       "\n",
       "    .dataframe tbody tr th {\n",
       "        vertical-align: top;\n",
       "    }\n",
       "\n",
       "    .dataframe thead th {\n",
       "        text-align: right;\n",
       "    }\n",
       "</style>\n",
       "<table border=\"1\" class=\"dataframe\">\n",
       "  <thead>\n",
       "    <tr style=\"text-align: right;\">\n",
       "      <th></th>\n",
       "      <th>id</th>\n",
       "      <th>value</th>\n",
       "    </tr>\n",
       "  </thead>\n",
       "  <tbody>\n",
       "    <tr>\n",
       "      <th>0</th>\n",
       "      <td>01/04/2022</td>\n",
       "      <td>29</td>\n",
       "    </tr>\n",
       "    <tr>\n",
       "      <th>1</th>\n",
       "      <td>02/04/2022</td>\n",
       "      <td>10</td>\n",
       "    </tr>\n",
       "    <tr>\n",
       "      <th>2</th>\n",
       "      <td>03/04/2022</td>\n",
       "      <td>27</td>\n",
       "    </tr>\n",
       "    <tr>\n",
       "      <th>3</th>\n",
       "      <td>04/04/2022</td>\n",
       "      <td>29</td>\n",
       "    </tr>\n",
       "    <tr>\n",
       "      <th>4</th>\n",
       "      <td>05/04/2022</td>\n",
       "      <td>14</td>\n",
       "    </tr>\n",
       "  </tbody>\n",
       "</table>\n",
       "</div>"
      ],
      "text/plain": [
       "           id  value\n",
       "0  01/04/2022     29\n",
       "1  02/04/2022     10\n",
       "2  03/04/2022     27\n",
       "3  04/04/2022     29\n",
       "4  05/04/2022     14"
      ]
     },
     "execution_count": 2,
     "metadata": {},
     "output_type": "execute_result"
    }
   ],
   "source": [
    "# Contoh untuk menjawab prediksi\n",
    "answer = pd.read_csv(\"answer_contoh.csv\")\n",
    "answer.head()"
   ]
  },
  {
   "cell_type": "code",
   "execution_count": 3,
   "id": "781c70f6",
   "metadata": {
    "ExecuteTime": {
     "end_time": "2022-05-15T04:43:21.011020Z",
     "start_time": "2022-05-15T04:43:20.966754Z"
    }
   },
   "outputs": [
    {
     "data": {
      "text/html": [
       "<div>\n",
       "<style scoped>\n",
       "    .dataframe tbody tr th:only-of-type {\n",
       "        vertical-align: middle;\n",
       "    }\n",
       "\n",
       "    .dataframe tbody tr th {\n",
       "        vertical-align: top;\n",
       "    }\n",
       "\n",
       "    .dataframe thead th {\n",
       "        text-align: right;\n",
       "    }\n",
       "</style>\n",
       "<table border=\"1\" class=\"dataframe\">\n",
       "  <thead>\n",
       "    <tr style=\"text-align: right;\">\n",
       "      <th></th>\n",
       "      <th>id</th>\n",
       "      <th>value</th>\n",
       "    </tr>\n",
       "  </thead>\n",
       "  <tbody>\n",
       "    <tr>\n",
       "      <th>0</th>\n",
       "      <td>01/04/2022</td>\n",
       "      <td>NaN</td>\n",
       "    </tr>\n",
       "    <tr>\n",
       "      <th>1</th>\n",
       "      <td>02/04/2022</td>\n",
       "      <td>NaN</td>\n",
       "    </tr>\n",
       "    <tr>\n",
       "      <th>2</th>\n",
       "      <td>03/04/2022</td>\n",
       "      <td>NaN</td>\n",
       "    </tr>\n",
       "    <tr>\n",
       "      <th>3</th>\n",
       "      <td>04/04/2022</td>\n",
       "      <td>NaN</td>\n",
       "    </tr>\n",
       "    <tr>\n",
       "      <th>4</th>\n",
       "      <td>05/04/2022</td>\n",
       "      <td>NaN</td>\n",
       "    </tr>\n",
       "  </tbody>\n",
       "</table>\n",
       "</div>"
      ],
      "text/plain": [
       "           id  value\n",
       "0  01/04/2022    NaN\n",
       "1  02/04/2022    NaN\n",
       "2  03/04/2022    NaN\n",
       "3  04/04/2022    NaN\n",
       "4  05/04/2022    NaN"
      ]
     },
     "execution_count": 3,
     "metadata": {},
     "output_type": "execute_result"
    }
   ],
   "source": [
    "# Prediksi (data testing)\n",
    "test = pd.read_csv(\"answer_template.csv\")\n",
    "test.head()"
   ]
  },
  {
   "cell_type": "code",
   "execution_count": 4,
   "id": "98cfd124",
   "metadata": {
    "ExecuteTime": {
     "end_time": "2022-05-15T04:43:21.152687Z",
     "start_time": "2022-05-15T04:43:21.051974Z"
    }
   },
   "outputs": [
    {
     "data": {
      "text/html": [
       "<div>\n",
       "<style scoped>\n",
       "    .dataframe tbody tr th:only-of-type {\n",
       "        vertical-align: middle;\n",
       "    }\n",
       "\n",
       "    .dataframe tbody tr th {\n",
       "        vertical-align: top;\n",
       "    }\n",
       "\n",
       "    .dataframe thead th {\n",
       "        text-align: right;\n",
       "    }\n",
       "</style>\n",
       "<table border=\"1\" class=\"dataframe\">\n",
       "  <thead>\n",
       "    <tr style=\"text-align: right;\">\n",
       "      <th></th>\n",
       "      <th>Urutan</th>\n",
       "      <th>id_cust</th>\n",
       "      <th>Status</th>\n",
       "      <th>Cukur_ke</th>\n",
       "      <th>Capster</th>\n",
       "      <th>Hari</th>\n",
       "      <th>Tanggal</th>\n",
       "      <th>keterangan</th>\n",
       "      <th>Bayar</th>\n",
       "      <th>Haircut</th>\n",
       "      <th>...</th>\n",
       "      <th>Pomade 3</th>\n",
       "      <th>Pomade 4</th>\n",
       "      <th>Pomade 5</th>\n",
       "      <th>Pomade 6</th>\n",
       "      <th>Pomade 7</th>\n",
       "      <th>Pomade 8</th>\n",
       "      <th>Pomade 9</th>\n",
       "      <th>Conditioner</th>\n",
       "      <th>Hairtonic</th>\n",
       "      <th>Total Payment</th>\n",
       "    </tr>\n",
       "  </thead>\n",
       "  <tbody>\n",
       "    <tr>\n",
       "      <th>0</th>\n",
       "      <td>1.0</td>\n",
       "      <td>26908171Haety</td>\n",
       "      <td>baru</td>\n",
       "      <td>1.0</td>\n",
       "      <td>irh</td>\n",
       "      <td>senin</td>\n",
       "      <td>16/08/2021</td>\n",
       "      <td>NaN</td>\n",
       "      <td>Cash</td>\n",
       "      <td>30000</td>\n",
       "      <td>...</td>\n",
       "      <td>NaN</td>\n",
       "      <td>NaN</td>\n",
       "      <td>NaN</td>\n",
       "      <td>NaN</td>\n",
       "      <td>NaN</td>\n",
       "      <td>NaN</td>\n",
       "      <td>NaN</td>\n",
       "      <td>NaN</td>\n",
       "      <td>NaN</td>\n",
       "      <td>30000</td>\n",
       "    </tr>\n",
       "    <tr>\n",
       "      <th>1</th>\n",
       "      <td>2.0</td>\n",
       "      <td>26924970Riand</td>\n",
       "      <td>baru</td>\n",
       "      <td>1.0</td>\n",
       "      <td>irh</td>\n",
       "      <td>senin</td>\n",
       "      <td>16/08/2021</td>\n",
       "      <td>NaN</td>\n",
       "      <td>Cash</td>\n",
       "      <td>30000</td>\n",
       "      <td>...</td>\n",
       "      <td>NaN</td>\n",
       "      <td>NaN</td>\n",
       "      <td>NaN</td>\n",
       "      <td>NaN</td>\n",
       "      <td>NaN</td>\n",
       "      <td>NaN</td>\n",
       "      <td>NaN</td>\n",
       "      <td>NaN</td>\n",
       "      <td>NaN</td>\n",
       "      <td>30000</td>\n",
       "    </tr>\n",
       "    <tr>\n",
       "      <th>2</th>\n",
       "      <td>3.0</td>\n",
       "      <td>25789556Buawa</td>\n",
       "      <td>baru</td>\n",
       "      <td>1.0</td>\n",
       "      <td>irh</td>\n",
       "      <td>senin</td>\n",
       "      <td>16/08/2021</td>\n",
       "      <td>NaN</td>\n",
       "      <td>Cash</td>\n",
       "      <td>30000</td>\n",
       "      <td>...</td>\n",
       "      <td>NaN</td>\n",
       "      <td>NaN</td>\n",
       "      <td>NaN</td>\n",
       "      <td>NaN</td>\n",
       "      <td>NaN</td>\n",
       "      <td>NaN</td>\n",
       "      <td>NaN</td>\n",
       "      <td>NaN</td>\n",
       "      <td>NaN</td>\n",
       "      <td>30000</td>\n",
       "    </tr>\n",
       "    <tr>\n",
       "      <th>3</th>\n",
       "      <td>4.0</td>\n",
       "      <td>26770753Litan</td>\n",
       "      <td>baru</td>\n",
       "      <td>1.0</td>\n",
       "      <td>irh</td>\n",
       "      <td>selasa</td>\n",
       "      <td>17/08/2021</td>\n",
       "      <td>NaN</td>\n",
       "      <td>Cash</td>\n",
       "      <td>30000</td>\n",
       "      <td>...</td>\n",
       "      <td>NaN</td>\n",
       "      <td>NaN</td>\n",
       "      <td>NaN</td>\n",
       "      <td>NaN</td>\n",
       "      <td>NaN</td>\n",
       "      <td>NaN</td>\n",
       "      <td>NaN</td>\n",
       "      <td>NaN</td>\n",
       "      <td>NaN</td>\n",
       "      <td>30000</td>\n",
       "    </tr>\n",
       "    <tr>\n",
       "      <th>4</th>\n",
       "      <td>5.0</td>\n",
       "      <td>26770753Tatan</td>\n",
       "      <td>baru</td>\n",
       "      <td>1.0</td>\n",
       "      <td>irh</td>\n",
       "      <td>selasa</td>\n",
       "      <td>17/08/2021</td>\n",
       "      <td>NaN</td>\n",
       "      <td>Cash</td>\n",
       "      <td>30000</td>\n",
       "      <td>...</td>\n",
       "      <td>NaN</td>\n",
       "      <td>NaN</td>\n",
       "      <td>NaN</td>\n",
       "      <td>NaN</td>\n",
       "      <td>NaN</td>\n",
       "      <td>NaN</td>\n",
       "      <td>NaN</td>\n",
       "      <td>NaN</td>\n",
       "      <td>NaN</td>\n",
       "      <td>30000</td>\n",
       "    </tr>\n",
       "  </tbody>\n",
       "</table>\n",
       "<p>5 rows × 28 columns</p>\n",
       "</div>"
      ],
      "text/plain": [
       "   Urutan        id_cust Status  Cukur_ke Capster    Hari     Tanggal  \\\n",
       "0     1.0  26908171Haety   baru       1.0     irh   senin  16/08/2021   \n",
       "1     2.0  26924970Riand   baru       1.0     irh   senin  16/08/2021   \n",
       "2     3.0  25789556Buawa   baru       1.0     irh   senin  16/08/2021   \n",
       "3     4.0  26770753Litan   baru       1.0     irh  selasa  17/08/2021   \n",
       "4     5.0  26770753Tatan   baru       1.0     irh  selasa  17/08/2021   \n",
       "\n",
       "  keterangan Bayar  Haircut  ...  Pomade 3  Pomade 4  Pomade 5  Pomade 6  \\\n",
       "0        NaN  Cash    30000  ...       NaN       NaN       NaN       NaN   \n",
       "1        NaN  Cash    30000  ...       NaN       NaN       NaN       NaN   \n",
       "2        NaN  Cash    30000  ...       NaN       NaN       NaN       NaN   \n",
       "3        NaN  Cash    30000  ...       NaN       NaN       NaN       NaN   \n",
       "4        NaN  Cash    30000  ...       NaN       NaN       NaN       NaN   \n",
       "\n",
       "   Pomade 7  Pomade 8  Pomade 9  Conditioner  Hairtonic  Total Payment  \n",
       "0       NaN       NaN       NaN          NaN        NaN          30000  \n",
       "1       NaN       NaN       NaN          NaN        NaN          30000  \n",
       "2       NaN       NaN       NaN          NaN        NaN          30000  \n",
       "3       NaN       NaN       NaN          NaN        NaN          30000  \n",
       "4       NaN       NaN       NaN          NaN        NaN          30000  \n",
       "\n",
       "[5 rows x 28 columns]"
      ]
     },
     "execution_count": 4,
     "metadata": {},
     "output_type": "execute_result"
    }
   ],
   "source": [
    "# Data training\n",
    "df_train = pd.read_csv(\"Data_Transaksi_Barber.csv\")\n",
    "df_train.head()"
   ]
  },
  {
   "cell_type": "code",
   "execution_count": 5,
   "id": "f1f984a3",
   "metadata": {
    "ExecuteTime": {
     "end_time": "2022-05-15T04:43:21.268488Z",
     "start_time": "2022-05-15T04:43:21.231575Z"
    }
   },
   "outputs": [
    {
     "name": "stdout",
     "output_type": "stream",
     "text": [
      "<class 'pandas.core.frame.DataFrame'>\n",
      "RangeIndex: 2049 entries, 0 to 2048\n",
      "Data columns (total 28 columns):\n",
      " #   Column         Non-Null Count  Dtype  \n",
      "---  ------         --------------  -----  \n",
      " 0   Urutan         2046 non-null   float64\n",
      " 1   id_cust        2046 non-null   object \n",
      " 2   Status         2046 non-null   object \n",
      " 3   Cukur_ke       1993 non-null   float64\n",
      " 4   Capster        2046 non-null   object \n",
      " 5   Hari           2049 non-null   object \n",
      " 6   Tanggal        2049 non-null   object \n",
      " 7   keterangan     3 non-null      object \n",
      " 8   Bayar          2049 non-null   object \n",
      " 9   Haircut        2049 non-null   int64  \n",
      " 10  Haircolor      37 non-null     float64\n",
      " 11  Creambath      9 non-null      float64\n",
      " 12  Shaving        23 non-null     float64\n",
      " 13  Vitamin        10 non-null     float64\n",
      " 14  Powder A       32 non-null     float64\n",
      " 15  Powder B       7 non-null      float64\n",
      " 16  Pomade 1       10 non-null     float64\n",
      " 17  Pomade 2       2 non-null      float64\n",
      " 18  Pomade 3       1 non-null      float64\n",
      " 19  Pomade 4       0 non-null      float64\n",
      " 20  Pomade 5       12 non-null     float64\n",
      " 21  Pomade 6       19 non-null     float64\n",
      " 22  Pomade 7       1 non-null      float64\n",
      " 23  Pomade 8       0 non-null      float64\n",
      " 24  Pomade 9       5 non-null      float64\n",
      " 25  Conditioner    10 non-null     float64\n",
      " 26  Hairtonic      144 non-null    float64\n",
      " 27  Total Payment  2049 non-null   int64  \n",
      "dtypes: float64(19), int64(2), object(7)\n",
      "memory usage: 448.3+ KB\n"
     ]
    }
   ],
   "source": [
    "df_train.info()"
   ]
  },
  {
   "cell_type": "markdown",
   "id": "d60c008a",
   "metadata": {},
   "source": [
    "---\n",
    "Informasi mengenai variabel\n",
    "Data float\n",
    "1. urutan \n",
    "2. cukur_ke\n",
    "3. haircolor\n",
    "4. creambath\n",
    "5. shaving\n",
    "6. vitamin\n",
    "7. powder A\n",
    "8. powder B\n",
    "9. Pomade 1\n",
    "10. Pomade 2\n",
    "11. Pomade 3\n",
    "12. Pomade 4\n",
    "13. Pomade 5\n",
    "14. Pomade 6\n",
    "15. Pomade 7\n",
    "16. Pomade 8\n",
    "17. Pomade 9\n",
    "18. Conditioner\n",
    "19. Hairtonic\n",
    "\n",
    "Data int\n",
    "1. haircut\n",
    "2. total payment\n",
    "\n",
    "Data Categorikal\n",
    "1. id customer\n",
    "2. status\n",
    "3. capster\n",
    "4. hari\n",
    "5. tanggal\n",
    "6. keterangan\n",
    "7. bayar"
   ]
  },
  {
   "cell_type": "code",
   "execution_count": 6,
   "id": "41b02ba9",
   "metadata": {
    "ExecuteTime": {
     "end_time": "2022-05-15T04:43:21.376537Z",
     "start_time": "2022-05-15T04:43:21.345338Z"
    }
   },
   "outputs": [
    {
     "data": {
      "text/plain": [
       "Urutan              3\n",
       "id_cust             3\n",
       "Status              3\n",
       "Cukur_ke           56\n",
       "Capster             3\n",
       "Hari                0\n",
       "Tanggal             0\n",
       "keterangan       2046\n",
       "Bayar               0\n",
       "Haircut             0\n",
       "Haircolor        2012\n",
       "Creambath        2040\n",
       "Shaving          2026\n",
       "Vitamin          2039\n",
       "Powder A         2017\n",
       "Powder B         2042\n",
       "Pomade 1         2039\n",
       "Pomade 2         2047\n",
       "Pomade 3         2048\n",
       "Pomade 4         2049\n",
       "Pomade 5         2037\n",
       "Pomade 6         2030\n",
       "Pomade 7         2048\n",
       "Pomade 8         2049\n",
       "Pomade 9         2044\n",
       "Conditioner      2039\n",
       "Hairtonic        1905\n",
       "Total Payment       0\n",
       "dtype: int64"
      ]
     },
     "execution_count": 6,
     "metadata": {},
     "output_type": "execute_result"
    }
   ],
   "source": [
    "df_train.isnull().sum()"
   ]
  },
  {
   "cell_type": "markdown",
   "id": "d604c01e",
   "metadata": {},
   "source": [
    "Variabel yang mungkin digunakan\n",
    "* Status (baru: pelanggan baru pertama kali datang, lama: pelanggan lama yang pernah datang)\n",
    "* Cukur ke (jumlah kedatangan customer ke store)\n",
    "* Capster (id pemotong rambut yang memberikan service)\n",
    "* Bayar (channel payment cash/qris)"
   ]
  },
  {
   "cell_type": "code",
   "execution_count": 7,
   "id": "c01d0b02",
   "metadata": {
    "ExecuteTime": {
     "end_time": "2022-05-15T04:43:21.538153Z",
     "start_time": "2022-05-15T04:43:21.456992Z"
    }
   },
   "outputs": [
    {
     "data": {
      "text/html": [
       "<div>\n",
       "<style scoped>\n",
       "    .dataframe tbody tr th:only-of-type {\n",
       "        vertical-align: middle;\n",
       "    }\n",
       "\n",
       "    .dataframe tbody tr th {\n",
       "        vertical-align: top;\n",
       "    }\n",
       "\n",
       "    .dataframe thead th {\n",
       "        text-align: right;\n",
       "    }\n",
       "</style>\n",
       "<table border=\"1\" class=\"dataframe\">\n",
       "  <thead>\n",
       "    <tr style=\"text-align: right;\">\n",
       "      <th></th>\n",
       "      <th>Urutan</th>\n",
       "      <th>id_cust</th>\n",
       "      <th>Status</th>\n",
       "      <th>Cukur_ke</th>\n",
       "      <th>Capster</th>\n",
       "      <th>Hari</th>\n",
       "      <th>Tanggal</th>\n",
       "      <th>keterangan</th>\n",
       "      <th>Bayar</th>\n",
       "      <th>Haircut</th>\n",
       "      <th>...</th>\n",
       "      <th>Pomade 3</th>\n",
       "      <th>Pomade 4</th>\n",
       "      <th>Pomade 5</th>\n",
       "      <th>Pomade 6</th>\n",
       "      <th>Pomade 7</th>\n",
       "      <th>Pomade 8</th>\n",
       "      <th>Pomade 9</th>\n",
       "      <th>Conditioner</th>\n",
       "      <th>Hairtonic</th>\n",
       "      <th>Total Payment</th>\n",
       "    </tr>\n",
       "  </thead>\n",
       "  <tbody>\n",
       "    <tr>\n",
       "      <th>0</th>\n",
       "      <td>1.0</td>\n",
       "      <td>26908171Haety</td>\n",
       "      <td>baru</td>\n",
       "      <td>1.0</td>\n",
       "      <td>irh</td>\n",
       "      <td>senin</td>\n",
       "      <td>16/08/2021</td>\n",
       "      <td>NaN</td>\n",
       "      <td>Cash</td>\n",
       "      <td>30000</td>\n",
       "      <td>...</td>\n",
       "      <td>NaN</td>\n",
       "      <td>NaN</td>\n",
       "      <td>NaN</td>\n",
       "      <td>NaN</td>\n",
       "      <td>NaN</td>\n",
       "      <td>NaN</td>\n",
       "      <td>NaN</td>\n",
       "      <td>NaN</td>\n",
       "      <td>NaN</td>\n",
       "      <td>30000</td>\n",
       "    </tr>\n",
       "    <tr>\n",
       "      <th>1</th>\n",
       "      <td>2.0</td>\n",
       "      <td>26924970Riand</td>\n",
       "      <td>baru</td>\n",
       "      <td>1.0</td>\n",
       "      <td>irh</td>\n",
       "      <td>senin</td>\n",
       "      <td>16/08/2021</td>\n",
       "      <td>NaN</td>\n",
       "      <td>Cash</td>\n",
       "      <td>30000</td>\n",
       "      <td>...</td>\n",
       "      <td>NaN</td>\n",
       "      <td>NaN</td>\n",
       "      <td>NaN</td>\n",
       "      <td>NaN</td>\n",
       "      <td>NaN</td>\n",
       "      <td>NaN</td>\n",
       "      <td>NaN</td>\n",
       "      <td>NaN</td>\n",
       "      <td>NaN</td>\n",
       "      <td>30000</td>\n",
       "    </tr>\n",
       "    <tr>\n",
       "      <th>2</th>\n",
       "      <td>3.0</td>\n",
       "      <td>25789556Buawa</td>\n",
       "      <td>baru</td>\n",
       "      <td>1.0</td>\n",
       "      <td>irh</td>\n",
       "      <td>senin</td>\n",
       "      <td>16/08/2021</td>\n",
       "      <td>NaN</td>\n",
       "      <td>Cash</td>\n",
       "      <td>30000</td>\n",
       "      <td>...</td>\n",
       "      <td>NaN</td>\n",
       "      <td>NaN</td>\n",
       "      <td>NaN</td>\n",
       "      <td>NaN</td>\n",
       "      <td>NaN</td>\n",
       "      <td>NaN</td>\n",
       "      <td>NaN</td>\n",
       "      <td>NaN</td>\n",
       "      <td>NaN</td>\n",
       "      <td>30000</td>\n",
       "    </tr>\n",
       "    <tr>\n",
       "      <th>3</th>\n",
       "      <td>4.0</td>\n",
       "      <td>26770753Litan</td>\n",
       "      <td>baru</td>\n",
       "      <td>1.0</td>\n",
       "      <td>irh</td>\n",
       "      <td>selasa</td>\n",
       "      <td>17/08/2021</td>\n",
       "      <td>NaN</td>\n",
       "      <td>Cash</td>\n",
       "      <td>30000</td>\n",
       "      <td>...</td>\n",
       "      <td>NaN</td>\n",
       "      <td>NaN</td>\n",
       "      <td>NaN</td>\n",
       "      <td>NaN</td>\n",
       "      <td>NaN</td>\n",
       "      <td>NaN</td>\n",
       "      <td>NaN</td>\n",
       "      <td>NaN</td>\n",
       "      <td>NaN</td>\n",
       "      <td>30000</td>\n",
       "    </tr>\n",
       "    <tr>\n",
       "      <th>4</th>\n",
       "      <td>5.0</td>\n",
       "      <td>26770753Tatan</td>\n",
       "      <td>baru</td>\n",
       "      <td>1.0</td>\n",
       "      <td>irh</td>\n",
       "      <td>selasa</td>\n",
       "      <td>17/08/2021</td>\n",
       "      <td>NaN</td>\n",
       "      <td>Cash</td>\n",
       "      <td>30000</td>\n",
       "      <td>...</td>\n",
       "      <td>NaN</td>\n",
       "      <td>NaN</td>\n",
       "      <td>NaN</td>\n",
       "      <td>NaN</td>\n",
       "      <td>NaN</td>\n",
       "      <td>NaN</td>\n",
       "      <td>NaN</td>\n",
       "      <td>NaN</td>\n",
       "      <td>NaN</td>\n",
       "      <td>30000</td>\n",
       "    </tr>\n",
       "  </tbody>\n",
       "</table>\n",
       "<p>5 rows × 28 columns</p>\n",
       "</div>"
      ],
      "text/plain": [
       "   Urutan        id_cust Status  Cukur_ke Capster    Hari     Tanggal  \\\n",
       "0     1.0  26908171Haety   baru       1.0     irh   senin  16/08/2021   \n",
       "1     2.0  26924970Riand   baru       1.0     irh   senin  16/08/2021   \n",
       "2     3.0  25789556Buawa   baru       1.0     irh   senin  16/08/2021   \n",
       "3     4.0  26770753Litan   baru       1.0     irh  selasa  17/08/2021   \n",
       "4     5.0  26770753Tatan   baru       1.0     irh  selasa  17/08/2021   \n",
       "\n",
       "  keterangan Bayar  Haircut  ...  Pomade 3  Pomade 4  Pomade 5  Pomade 6  \\\n",
       "0        NaN  Cash    30000  ...       NaN       NaN       NaN       NaN   \n",
       "1        NaN  Cash    30000  ...       NaN       NaN       NaN       NaN   \n",
       "2        NaN  Cash    30000  ...       NaN       NaN       NaN       NaN   \n",
       "3        NaN  Cash    30000  ...       NaN       NaN       NaN       NaN   \n",
       "4        NaN  Cash    30000  ...       NaN       NaN       NaN       NaN   \n",
       "\n",
       "   Pomade 7  Pomade 8  Pomade 9  Conditioner  Hairtonic  Total Payment  \n",
       "0       NaN       NaN       NaN          NaN        NaN          30000  \n",
       "1       NaN       NaN       NaN          NaN        NaN          30000  \n",
       "2       NaN       NaN       NaN          NaN        NaN          30000  \n",
       "3       NaN       NaN       NaN          NaN        NaN          30000  \n",
       "4       NaN       NaN       NaN          NaN        NaN          30000  \n",
       "\n",
       "[5 rows x 28 columns]"
      ]
     },
     "execution_count": 7,
     "metadata": {},
     "output_type": "execute_result"
    }
   ],
   "source": [
    "df_coba = df_train.copy()\n",
    "df_coba.head()"
   ]
  },
  {
   "cell_type": "code",
   "execution_count": 8,
   "id": "f284a077",
   "metadata": {
    "ExecuteTime": {
     "end_time": "2022-05-15T04:43:21.692902Z",
     "start_time": "2022-05-15T04:43:21.676431Z"
    }
   },
   "outputs": [
    {
     "data": {
      "text/plain": [
       "array(['baru', 'lama', nan], dtype=object)"
      ]
     },
     "execution_count": 8,
     "metadata": {},
     "output_type": "execute_result"
    }
   ],
   "source": [
    "df_coba['Status'].unique()"
   ]
  },
  {
   "cell_type": "code",
   "execution_count": 9,
   "id": "7b3c4f25",
   "metadata": {
    "ExecuteTime": {
     "end_time": "2022-05-15T04:43:21.822358Z",
     "start_time": "2022-05-15T04:43:21.789380Z"
    }
   },
   "outputs": [
    {
     "data": {
      "text/plain": [
       "array([ 1.,  2.,  3., nan,  4.,  5.,  6.,  7.,  8.,  0.,  9., 10., 11.])"
      ]
     },
     "execution_count": 9,
     "metadata": {},
     "output_type": "execute_result"
    }
   ],
   "source": [
    "df_coba['Cukur_ke'].unique()"
   ]
  },
  {
   "cell_type": "code",
   "execution_count": 10,
   "id": "f75f2028",
   "metadata": {
    "ExecuteTime": {
     "end_time": "2022-05-15T04:43:21.947747Z",
     "start_time": "2022-05-15T04:43:21.934076Z"
    }
   },
   "outputs": [
    {
     "data": {
      "text/plain": [
       "array([nan, 'LIBUR (TUTUP)'], dtype=object)"
      ]
     },
     "execution_count": 10,
     "metadata": {},
     "output_type": "execute_result"
    }
   ],
   "source": [
    "df_coba['keterangan'].unique()"
   ]
  },
  {
   "cell_type": "code",
   "execution_count": 11,
   "id": "710e095d",
   "metadata": {
    "ExecuteTime": {
     "end_time": "2022-05-15T04:43:22.129185Z",
     "start_time": "2022-05-15T04:43:22.064955Z"
    }
   },
   "outputs": [
    {
     "data": {
      "text/html": [
       "<div>\n",
       "<style scoped>\n",
       "    .dataframe tbody tr th:only-of-type {\n",
       "        vertical-align: middle;\n",
       "    }\n",
       "\n",
       "    .dataframe tbody tr th {\n",
       "        vertical-align: top;\n",
       "    }\n",
       "\n",
       "    .dataframe thead th {\n",
       "        text-align: right;\n",
       "    }\n",
       "</style>\n",
       "<table border=\"1\" class=\"dataframe\">\n",
       "  <thead>\n",
       "    <tr style=\"text-align: right;\">\n",
       "      <th></th>\n",
       "      <th>Urutan</th>\n",
       "      <th>id_cust</th>\n",
       "      <th>Status</th>\n",
       "      <th>Cukur_ke</th>\n",
       "      <th>Capster</th>\n",
       "      <th>Hari</th>\n",
       "      <th>Tanggal</th>\n",
       "      <th>keterangan</th>\n",
       "      <th>Bayar</th>\n",
       "      <th>Haircut</th>\n",
       "      <th>...</th>\n",
       "      <th>Pomade 3</th>\n",
       "      <th>Pomade 4</th>\n",
       "      <th>Pomade 5</th>\n",
       "      <th>Pomade 6</th>\n",
       "      <th>Pomade 7</th>\n",
       "      <th>Pomade 8</th>\n",
       "      <th>Pomade 9</th>\n",
       "      <th>Conditioner</th>\n",
       "      <th>Hairtonic</th>\n",
       "      <th>Total Payment</th>\n",
       "    </tr>\n",
       "  </thead>\n",
       "  <tbody>\n",
       "    <tr>\n",
       "      <th>336</th>\n",
       "      <td>NaN</td>\n",
       "      <td>NaN</td>\n",
       "      <td>NaN</td>\n",
       "      <td>NaN</td>\n",
       "      <td>NaN</td>\n",
       "      <td>kamis</td>\n",
       "      <td>21/10/2021</td>\n",
       "      <td>LIBUR (TUTUP)</td>\n",
       "      <td>Cash</td>\n",
       "      <td>35000</td>\n",
       "      <td>...</td>\n",
       "      <td>NaN</td>\n",
       "      <td>NaN</td>\n",
       "      <td>NaN</td>\n",
       "      <td>NaN</td>\n",
       "      <td>NaN</td>\n",
       "      <td>NaN</td>\n",
       "      <td>NaN</td>\n",
       "      <td>NaN</td>\n",
       "      <td>NaN</td>\n",
       "      <td>35000</td>\n",
       "    </tr>\n",
       "    <tr>\n",
       "      <th>337</th>\n",
       "      <td>NaN</td>\n",
       "      <td>NaN</td>\n",
       "      <td>NaN</td>\n",
       "      <td>NaN</td>\n",
       "      <td>NaN</td>\n",
       "      <td>jumat</td>\n",
       "      <td>22/10/2021</td>\n",
       "      <td>LIBUR (TUTUP)</td>\n",
       "      <td>Cash</td>\n",
       "      <td>35000</td>\n",
       "      <td>...</td>\n",
       "      <td>NaN</td>\n",
       "      <td>NaN</td>\n",
       "      <td>NaN</td>\n",
       "      <td>NaN</td>\n",
       "      <td>NaN</td>\n",
       "      <td>NaN</td>\n",
       "      <td>NaN</td>\n",
       "      <td>NaN</td>\n",
       "      <td>NaN</td>\n",
       "      <td>35000</td>\n",
       "    </tr>\n",
       "    <tr>\n",
       "      <th>338</th>\n",
       "      <td>NaN</td>\n",
       "      <td>NaN</td>\n",
       "      <td>NaN</td>\n",
       "      <td>NaN</td>\n",
       "      <td>NaN</td>\n",
       "      <td>sabtu</td>\n",
       "      <td>23/10/2021</td>\n",
       "      <td>LIBUR (TUTUP)</td>\n",
       "      <td>Cash</td>\n",
       "      <td>35000</td>\n",
       "      <td>...</td>\n",
       "      <td>NaN</td>\n",
       "      <td>NaN</td>\n",
       "      <td>NaN</td>\n",
       "      <td>NaN</td>\n",
       "      <td>NaN</td>\n",
       "      <td>NaN</td>\n",
       "      <td>NaN</td>\n",
       "      <td>NaN</td>\n",
       "      <td>NaN</td>\n",
       "      <td>35000</td>\n",
       "    </tr>\n",
       "  </tbody>\n",
       "</table>\n",
       "<p>3 rows × 28 columns</p>\n",
       "</div>"
      ],
      "text/plain": [
       "     Urutan id_cust Status  Cukur_ke Capster   Hari     Tanggal  \\\n",
       "336     NaN     NaN    NaN       NaN     NaN  kamis  21/10/2021   \n",
       "337     NaN     NaN    NaN       NaN     NaN  jumat  22/10/2021   \n",
       "338     NaN     NaN    NaN       NaN     NaN  sabtu  23/10/2021   \n",
       "\n",
       "        keterangan Bayar  Haircut  ...  Pomade 3  Pomade 4  Pomade 5  \\\n",
       "336  LIBUR (TUTUP)  Cash    35000  ...       NaN       NaN       NaN   \n",
       "337  LIBUR (TUTUP)  Cash    35000  ...       NaN       NaN       NaN   \n",
       "338  LIBUR (TUTUP)  Cash    35000  ...       NaN       NaN       NaN   \n",
       "\n",
       "     Pomade 6  Pomade 7  Pomade 8  Pomade 9  Conditioner  Hairtonic  \\\n",
       "336       NaN       NaN       NaN       NaN          NaN        NaN   \n",
       "337       NaN       NaN       NaN       NaN          NaN        NaN   \n",
       "338       NaN       NaN       NaN       NaN          NaN        NaN   \n",
       "\n",
       "     Total Payment  \n",
       "336          35000  \n",
       "337          35000  \n",
       "338          35000  \n",
       "\n",
       "[3 rows x 28 columns]"
      ]
     },
     "execution_count": 11,
     "metadata": {},
     "output_type": "execute_result"
    }
   ],
   "source": [
    "df_coba[df_coba['keterangan']=='LIBUR (TUTUP)']"
   ]
  },
  {
   "cell_type": "code",
   "execution_count": 27,
   "id": "7554edfd",
   "metadata": {
    "ExecuteTime": {
     "end_time": "2022-05-15T04:51:41.157897Z",
     "start_time": "2022-05-15T04:51:41.135371Z"
    }
   },
   "outputs": [],
   "source": [
    "df_coba['Tanggal'] = pd.to_datetime(df_coba['Tanggal']).dt.date\n",
    "df_coba[\"Tanggal\"] = df_coba[\"Tanggal\"].astype(\"datetime64\")"
   ]
  },
  {
   "cell_type": "code",
   "execution_count": 34,
   "id": "3dbc4633",
   "metadata": {
    "ExecuteTime": {
     "end_time": "2022-05-15T04:53:13.408351Z",
     "start_time": "2022-05-15T04:53:13.390633Z"
    }
   },
   "outputs": [],
   "source": [
    "df_date_group = df_coba.groupby(by=[\"Tanggal\"])"
   ]
  },
  {
   "cell_type": "code",
   "execution_count": 18,
   "id": "e65fde83",
   "metadata": {
    "ExecuteTime": {
     "end_time": "2022-05-15T04:45:38.175343Z",
     "start_time": "2022-05-15T04:45:38.159510Z"
    }
   },
   "outputs": [
    {
     "data": {
      "text/plain": [
       "datetime.date(2022, 12, 3)"
      ]
     },
     "execution_count": 18,
     "metadata": {},
     "output_type": "execute_result"
    }
   ],
   "source": [
    "max(df_coba['Tanggal'])"
   ]
  },
  {
   "cell_type": "code",
   "execution_count": 19,
   "id": "a67e461e",
   "metadata": {
    "ExecuteTime": {
     "end_time": "2022-05-15T04:45:44.110446Z",
     "start_time": "2022-05-15T04:45:44.096029Z"
    }
   },
   "outputs": [
    {
     "data": {
      "text/plain": [
       "datetime.date(2021, 1, 9)"
      ]
     },
     "execution_count": 19,
     "metadata": {},
     "output_type": "execute_result"
    }
   ],
   "source": [
    "min(df_coba['Tanggal'])"
   ]
  },
  {
   "cell_type": "code",
   "execution_count": 35,
   "id": "6090ada0",
   "metadata": {
    "ExecuteTime": {
     "end_time": "2022-05-15T04:53:16.088821Z",
     "start_time": "2022-05-15T04:53:15.542277Z"
    }
   },
   "outputs": [
    {
     "data": {
      "image/png": "[encoded data removed]",
      "text/plain": [
       "<Figure size 1080x360 with 2 Axes>"
      ]
     },
     "metadata": {
      "needs_background": "light"
     },
     "output_type": "display_data"
    }
   ],
   "source": [
    "Transaction = df_date_group[\"Tanggal\"].count()\n",
    "\n",
    "fig,ax = calmap.calendarplot(Transaction, monthticks=10, daylabels='MTWTFSS',\n",
    "                    fillcolor='grey', linewidth=3, cmap='YlGn', \n",
    "                    fig_kws=dict(figsize=(15,5)))"
   ]
  },
  {
   "cell_type": "code",
   "execution_count": null,
   "id": "46b4738c",
   "metadata": {},
   "outputs": [],
   "source": []
  }
 ],
 "metadata": {
  "kernelspec": {
   "display_name": "Python 3 (ipykernel)",
   "language": "python",
   "name": "python3"
  },
  "language_info": {
   "codemirror_mode": {
    "name": "ipython",
    "version": 3
   },
   "file_extension": ".py",
   "mimetype": "text/x-python",
   "name": "python",
   "nbconvert_exporter": "python",
   "pygments_lexer": "ipython3",
   "version": "3.8.5"
  },
  "toc": {
   "base_numbering": 1,
   "nav_menu": {},
   "number_sections": true,
   "sideBar": true,
   "skip_h1_title": false,
   "title_cell": "Table of Contents",
   "title_sidebar": "Contents",
   "toc_cell": false,
   "toc_position": {},
   "toc_section_display": true,
   "toc_window_display": false
  },
  "varInspector": {
   "cols": {
    "lenName": 16,
    "lenType": 16,
    "lenVar": 40
   },
   "kernels_config": {
    "python": {
     "delete_cmd_postfix": "",
     "delete_cmd_prefix": "del ",
     "library": "var_list.py",
     "varRefreshCmd": "print(var_dic_list())"
    },
    "r": {
     "delete_cmd_postfix": ") ",
     "delete_cmd_prefix": "rm(",
     "library": "var_list.r",
     "varRefreshCmd": "cat(var_dic_list()) "
    }
   },
   "types_to_exclude": [
    "module",
    "function",
    "builtin_function_or_method",
    "instance",
    "_Feature"
   ],
   "window_display": false
  }
 },
 "nbformat": 4,
 "nbformat_minor": 5
}
